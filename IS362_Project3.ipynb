{
 "cells": [
  {
   "cell_type": "markdown",
   "metadata": {},
   "source": [
    "### Step 1: Database was created through elephantsql.com for free to host PostgresSql database. Then the <a href=\"https://raw.githubusercontent.com/lerocha/chinook-database/master/ChinookDatabase/DataSources/Chinook_PostgreSql.sql\">Chinook PostgresSql query link</a> on GitHub was used to backfill all tables and data. "
   ]
  },
  {
   "cell_type": "markdown",
   "metadata": {},
   "source": [
    "### Step 2: Create Connection with Database"
   ]
  },
  {
   "cell_type": "code",
   "execution_count": 1,
   "metadata": {},
   "outputs": [
    {
     "name": "stdout",
     "output_type": "stream",
     "text": [
      "{'user': 'zowglzqx', 'dbname': 'zowglzqx', 'host': 'drona.db.elephantsql.com', 'port': '5432', 'tty': '', 'options': '', 'sslmode': 'prefer', 'sslcompression': '0', 'krbsrvname': 'postgres', 'target_session_attrs': 'any'} \n",
      "\n",
      "You are connected to -  ('PostgreSQL 11.7 (Ubuntu 11.7-2.pgdg18.04+1) on x86_64-pc-linux-gnu, compiled by gcc (Ubuntu 7.4.0-1ubuntu1~18.04.1) 7.4.0, 64-bit',) \n",
      "\n"
     ]
    }
   ],
   "source": [
    "import psycopg2\n",
    "import pandas\n",
    "\n",
    "connection = psycopg2.connect(user = \"zowglzqx\",\n",
    "                              password = \"HinwKUQSD2t_10zuQK5Tln-us-7N9JsI\",\n",
    "                              host = \"drona.db.elephantsql.com\",\n",
    "                              database = \"zowglzqx\")\n",
    "\n",
    "cursor = connection.cursor()\n",
    "# Print PostgreSQL Connection properties\n",
    "print ( connection.get_dsn_parameters(),\"\\n\")\n",
    "\n",
    "# Print PostgreSQL version\n",
    "cursor.execute(\"SELECT version();\")\n",
    "record = cursor.fetchone()\n",
    "print(\"You are connected to - \", record,\"\\n\")\n"
   ]
  },
  {
   "cell_type": "markdown",
   "metadata": {},
   "source": [
    "### Step 2: Run query that joins all necessary tables for query"
   ]
  },
  {
   "cell_type": "code",
   "execution_count": 2,
   "metadata": {},
   "outputs": [],
   "source": [
    "query = \"\"\"\n",
    "SELECT c.\"LastName\", c.\"FirstName\", t.\"Name\" as TrackName, a.\"Title\" as AlbumTitle, art.\"Name\" as ArtistName\n",
    "FROM \"public\".\"InvoiceLine\" il\n",
    "LEFT JOIN \"public\".\"Track\" t on il.\"TrackId\" = t.\"TrackId\"\n",
    "LEFT JOIN \"public\".\"Invoice\" i on i.\"InvoiceId\" = il.\"InvoiceId\"\n",
    "LEFT JOIN \"public\".\"Customer\" c on c.\"CustomerId\" = i.\"CustomerId\"\n",
    "LEFT JOIN \"public\".\"Album\" a on t.\"AlbumId\" = a.\"AlbumId\"\n",
    "LEFT JOIN \"public\".\"Artist\" art on a.\"ArtistId\" = art.\"ArtistId\"\n",
    "ORDER BY c.\"LastName\", c.\"FirstName\", t.\"Name\";\n",
    "\"\"\"\n",
    "\n",
    "\n",
    "cursor.execute(query)\n",
    "results = cursor.fetchall() "
   ]
  },
  {
   "cell_type": "markdown",
   "metadata": {},
   "source": [
    "### Step 3: Convert SQL data into pandas Dataframe"
   ]
  },
  {
   "cell_type": "code",
   "execution_count": 3,
   "metadata": {},
   "outputs": [
    {
     "name": "stdout",
     "output_type": "stream",
     "text": [
      "  Last Name First Name                 Track Name               Album Name  \\\n",
      "0   Almeida    Roberto              Amor De Muito           Afrociberdelia   \n",
      "1   Almeida    Roberto                  Aos Le�es               Demorou...   \n",
      "2   Almeida    Roberto  Banditismo Por Uma Questa          Da Lama Ao Caos   \n",
      "3   Almeida    Roberto             Be Good Johnny  The Best Of Men At Work   \n",
      "4   Almeida    Roberto          Burden In My Hand                  A-Sides   \n",
      "\n",
      "                   Artist Name  \n",
      "0  Chico Science & Na��o Zumbi  \n",
      "1              M�nica Marianno  \n",
      "2  Chico Science & Na��o Zumbi  \n",
      "3                  Men At Work  \n",
      "4                  Soundgarden  \n"
     ]
    }
   ],
   "source": [
    "df = pandas.DataFrame(results, columns = ['Last Name', 'First Name', 'Track Name', 'Album Name', 'Artist Name'])\n",
    "\n",
    "print(df.head())"
   ]
  },
  {
   "cell_type": "markdown",
   "metadata": {},
   "source": [
    "### Step 4: Close PostgresSql Connection"
   ]
  },
  {
   "cell_type": "code",
   "execution_count": 4,
   "metadata": {},
   "outputs": [
    {
     "name": "stdout",
     "output_type": "stream",
     "text": [
      "PostgreSQL connection is closed\n"
     ]
    }
   ],
   "source": [
    "cursor.close()\n",
    "connection.close()\n",
    "\n",
    "print(\"PostgreSQL connection is closed\")"
   ]
  }
 ],
 "metadata": {
  "kernelspec": {
   "display_name": "Python 3",
   "language": "python",
   "name": "python3"
  },
  "language_info": {
   "codemirror_mode": {
    "name": "ipython",
    "version": 3
   },
   "file_extension": ".py",
   "mimetype": "text/x-python",
   "name": "python",
   "nbconvert_exporter": "python",
   "pygments_lexer": "ipython3",
   "version": "3.7.4"
  }
 },
 "nbformat": 4,
 "nbformat_minor": 2
}
